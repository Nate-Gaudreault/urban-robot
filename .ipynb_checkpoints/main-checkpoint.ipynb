{
 "cells": [
  {
   "cell_type": "code",
   "execution_count": 1,
   "metadata": {
    "collapsed": true
   },
   "outputs": [],
   "source": [
    "import re\n",
    "from collections import Counter\n",
    "import pickle\n",
    "import numpy as np\n",
    "from textblob import TextBlob\n",
    "import nltk\n",
    "from nltk.corpus import stopwords\n",
    "from nltk.stem.porter import PorterStemmer\n",
    "from scipy.sparse import csr_matrix, hstack\n",
    "from sklearn.datasets import load_files\n",
    "from sklearn.model_selection import train_test_split\n",
    "from sklearn.feature_extraction.text import TfidfVectorizer\n",
    "from sklearn.feature_extraction import DictVectorizer\n",
    "from sklearn.decomposition import LatentDirichletAllocation\n",
    "from sklearn.linear_model import LogisticRegression\n",
    "from sklearn.metrics import accuracy_score\n",
    "from sklearn.svm import SVC, LinearSVC\n",
    "from sklearn.ensemble import RandomForestClassifier"
   ]
  },
  {
   "cell_type": "code",
   "execution_count": 2,
   "metadata": {
    "collapsed": true
   },
   "outputs": [],
   "source": [
    "def remove_url(text):\n",
    "    pattern = \"((http|ftp|https):\\/\\/)?([\\w_-]+(?:(?:\\.[\\w_-]+)+))([\\w.,@?^=%&:\\/~+#-]*[\\w.,@?^=%&:\\/~+#-])?\"\n",
    "    return re.sub(pattern, \"\", text)\n",
    "\n",
    "def remove_stopwords(text):\n",
    "    stop_words = set(stopwords.words(\"english\"))\n",
    "    tokens = nltk.word_tokenize(text)\n",
    "    filtered_sentence = \" \".join([w for w in tokens if not w in stop_words])\n",
    "    return filtered_sentence\n",
    "\n",
    "def is_too_short(text):\n",
    "    tokens = nltk.word_tokenize(text)\n",
    "    return len(tokens) <= 3"
   ]
  },
  {
   "cell_type": "code",
   "execution_count": 3,
   "metadata": {
    "collapsed": true
   },
   "outputs": [],
   "source": [
    "def divide_text(text, n):\n",
    "    tokens = nltk.word_tokenize(text)\n",
    "    spilting_length = len(tokens) / n\n",
    "    out = []\n",
    "    x = 0\n",
    "    for i in range(n):\n",
    "        str_list = tokens[x:int(x+spilting_length)]\n",
    "        string = \" \".join(str_list)\n",
    "        out.append(string)\n",
    "        x = int(x+spilting_length)\n",
    "    return out\n",
    "\n",
    "def get_sentiment(arr):\n",
    "    n = len(arr)\n",
    "    polar = []\n",
    "    for i in range(n):\n",
    "        analysis = TextBlob(arr[i])\n",
    "        polar.append(analysis.sentiment.polarity)\n",
    "    return polar\n",
    "\n",
    "def find_sentiment(arr):\n",
    "    n = len(arr)\n",
    "    out = np.empty((len(arr), 6))\n",
    "    for i in range(len(arr)):\n",
    "        analysis = TextBlob(arr[i])\n",
    "        uni_polar = analysis.sentiment.polarity\n",
    "        string_list = divide_text(arr[i], 2)\n",
    "        bi_polar = get_sentiment(string_list)\n",
    "        string_list = divide_text(arr[i], 3)\n",
    "        tri_polar = get_sentiment(string_list)\n",
    "        out[i] = [uni_polar, bi_polar[0], bi_polar[1], tri_polar[0], tri_polar[1], tri_polar[2]]\n",
    "    return out"
   ]
  },
  {
   "cell_type": "code",
   "execution_count": 4,
   "metadata": {
    "collapsed": true
   },
   "outputs": [],
   "source": [
    "def stem_tokens(tokens, stemmer):\n",
    "    stemmed = []\n",
    "    for item in tokens:\n",
    "        stemmed.append(stemmer.stem(item))\n",
    "    return stemmed\n",
    "\n",
    "def tokenize(text):\n",
    "    tokens = nltk.word_tokenize(text)\n",
    "    stems = stem_tokens(tokens, stemmer)\n",
    "    return stems"
   ]
  },
  {
   "cell_type": "code",
   "execution_count": 5,
   "metadata": {
    "collapsed": true
   },
   "outputs": [],
   "source": [
    "def pos_tag_finder(text):\n",
    "    tokens = nltk.word_tokenize(text)\n",
    "    tags = nltk.pos_tag(tokens)\n",
    "    counts = Counter(tag for word,tag in tags)\n",
    "    total = sum(counts.values())\n",
    "    return dict((word, float(count)/total) for word,count in counts.items())\n",
    "\n",
    "def get_pos_features(arr):\n",
    "    out = np.array([])\n",
    "    for i in range(len(arr)):\n",
    "        pos_tags = pos_tag_finder(arr[i])\n",
    "        out = np.append(out, pos_tags)\n",
    "    return out"
   ]
  },
  {
   "cell_type": "code",
   "execution_count": 6,
   "metadata": {
    "collapsed": true
   },
   "outputs": [],
   "source": [
    "dataset = load_files('container/', encoding=\"utf8\", decode_error=\"replace\")"
   ]
  },
  {
   "cell_type": "code",
   "execution_count": 7,
   "metadata": {
    "collapsed": true
   },
   "outputs": [],
   "source": [
    "X = np.array([])\n",
    "y = np.array([])\n",
    "for i in range(len(dataset.data)):\n",
    "    if not is_too_short(dataset.data[i]):\n",
    "        noisless_text = remove_url(str(dataset.data[i]))\n",
    "        noisless_text = remove_stopwords(noisless_text)\n",
    "        X = np.append(X, noisless_text)\n",
    "        if dataset.target[i] == 0:\n",
    "            y = np.append(y, 'notsarc')\n",
    "        else:\n",
    "            y = np.append(y, 'sarc')"
   ]
  },
  {
   "cell_type": "code",
   "execution_count": 8,
   "metadata": {
    "collapsed": true
   },
   "outputs": [],
   "source": [
    "X_train, X_test, y_train, y_test = train_test_split(X, y, test_size=0.2)"
   ]
  },
  {
   "cell_type": "code",
   "execution_count": 9,
   "metadata": {
    "collapsed": true
   },
   "outputs": [],
   "source": [
    "sentiment_train = csr_matrix(find_sentiment(X_train))\n",
    "sentiment_test = csr_matrix(find_sentiment(X_test))"
   ]
  },
  {
   "cell_type": "code",
   "execution_count": 10,
   "metadata": {
    "collapsed": true
   },
   "outputs": [],
   "source": [
    "stemmer = PorterStemmer()"
   ]
  },
  {
   "cell_type": "code",
   "execution_count": 11,
   "metadata": {
    "collapsed": true
   },
   "outputs": [],
   "source": [
    "tfidf = TfidfVectorizer(tokenizer=tokenize, stop_words='english', ngram_range=(1, 5), max_features=1929)\n",
    "tfs_train = tfidf.fit_transform(X_train)\n",
    "tfs_test = tfidf.transform(X_test)"
   ]
  },
  {
   "cell_type": "code",
   "execution_count": 12,
   "metadata": {
    "collapsed": true
   },
   "outputs": [],
   "source": [
    "vec = DictVectorizer()\n",
    "\n",
    "pos_train = vec.fit_transform(get_pos_features(X_train))\n",
    "pos_test = vec.transform(get_pos_features(X_test))"
   ]
  },
  {
   "cell_type": "code",
   "execution_count": 13,
   "metadata": {
    "collapsed": true
   },
   "outputs": [],
   "source": [
    "pos_train = csr_matrix((pos_train.data, pos_train.indices, pos_train.indptr), shape=(len(y_train), 45))\n",
    "pos_test = csr_matrix((pos_test.data, pos_test.indices, pos_test.indptr), shape=(len(y_test), 45))"
   ]
  },
  {
   "cell_type": "code",
   "execution_count": 14,
   "metadata": {
    "collapsed": true
   },
   "outputs": [],
   "source": [
    "lda = LatentDirichletAllocation(n_topics=10, learning_method='online')\n",
    "\n",
    "topic_train = lda.fit_transform(tfs_train)\n",
    "topic_test = lda.transform(tfs_test)"
   ]
  },
  {
   "cell_type": "code",
   "execution_count": 15,
   "metadata": {
    "collapsed": true
   },
   "outputs": [],
   "source": [
    "final_train = hstack([sentiment_train, tfs_train, pos_train, topic_train])\n",
    "final_test = hstack([sentiment_test, tfs_test, pos_test, topic_test])"
   ]
  },
  {
   "cell_type": "code",
   "execution_count": 16,
   "metadata": {},
   "outputs": [
    {
     "name": "stdout",
     "output_type": "stream",
     "text": [
      "0.604060913706\n"
     ]
    }
   ],
   "source": [
    "logistic_clf = LogisticRegression(C=0.2)\n",
    "logistic_clf = logistic_clf.fit(final_train, y_train)\n",
    "predict = logistic_clf.predict(final_test)\n",
    "print(accuracy_score(y_test, predict))"
   ]
  },
  {
   "cell_type": "code",
   "execution_count": 17,
   "metadata": {},
   "outputs": [
    {
     "name": "stdout",
     "output_type": "stream",
     "text": [
      "0.581218274112\n"
     ]
    }
   ],
   "source": [
    "svm_clf = SVC(C=4, gamma=1.3)\n",
    "svm_clf = svm_clf.fit(final_train, y_train)\n",
    "predict = svm_clf.predict(final_test)\n",
    "print(accuracy_score(y_test, predict))"
   ]
  },
  {
   "cell_type": "code",
   "execution_count": 18,
   "metadata": {},
   "outputs": [
    {
     "name": "stdout",
     "output_type": "stream",
     "text": [
      "0.60152284264\n"
     ]
    }
   ],
   "source": [
    "linear_svm_clf = LinearSVC(C=0.1)\n",
    "linear_svm_clf = linear_svm_clf.fit(final_train, y_train)\n",
    "predict = linear_svm_clf.predict(final_test)\n",
    "print(accuracy_score(y_test, predict))"
   ]
  },
  {
   "cell_type": "code",
   "execution_count": 19,
   "metadata": {},
   "outputs": [
    {
     "name": "stdout",
     "output_type": "stream",
     "text": [
      "0.58883248731\n"
     ]
    }
   ],
   "source": [
    "rf_clf = RandomForestClassifier(n_estimators=100)\n",
    "rf_clf = rf_clf.fit(final_train, y_train)\n",
    "predict = rf_clf.predict(final_test)\n",
    "print(accuracy_score(y_test, predict))"
   ]
  },
  {
   "cell_type": "code",
   "execution_count": 20,
   "metadata": {},
   "outputs": [
    {
     "name": "stdout",
     "output_type": "stream",
     "text": [
      "0.606598984772\n"
     ]
    }
   ],
   "source": [
    "logistic_clf = LogisticRegression()\n",
    "logistic_clf = logistic_clf.fit(final_train, y_train)\n",
    "predict = logistic_clf.predict(final_test)\n",
    "print(accuracy_score(y_test, predict))"
   ]
  },
  {
   "cell_type": "code",
   "execution_count": 21,
   "metadata": {},
   "outputs": [
    {
     "name": "stdout",
     "output_type": "stream",
     "text": [
      "0.459390862944\n"
     ]
    }
   ],
   "source": [
    "svm_clf = SVC()\n",
    "svm_clf = svm_clf.fit(final_train, y_train)\n",
    "predict = svm_clf.predict(final_test)\n",
    "print(accuracy_score(y_test, predict))"
   ]
  },
  {
   "cell_type": "code",
   "execution_count": 22,
   "metadata": {},
   "outputs": [
    {
     "name": "stdout",
     "output_type": "stream",
     "text": [
      "0.565989847716\n"
     ]
    }
   ],
   "source": [
    "linear_svm_clf = LinearSVC()\n",
    "linear_svm_clf = linear_svm_clf.fit(final_train, y_train)\n",
    "predict = linear_svm_clf.predict(final_test)\n",
    "print(accuracy_score(y_test, predict))"
   ]
  },
  {
   "cell_type": "code",
   "execution_count": 23,
   "metadata": {},
   "outputs": [
    {
     "name": "stdout",
     "output_type": "stream",
     "text": [
      "779 796\n"
     ]
    }
   ],
   "source": [
    "count = 0\n",
    "for i in range(len(y_train)):\n",
    "    if y_train[i] == 'sarc':\n",
    "        count += 1\n",
    "print(count, len(y_train) - count)"
   ]
  },
  {
   "cell_type": "code",
   "execution_count": 24,
   "metadata": {
    "collapsed": true
   },
   "outputs": [],
   "source": [
    "c_range = np.linspace(0.001, 0.1, num=10)\n",
    "c_range = np.append(c_range, np.linspace(0.1, 2, num=20))\n",
    "c_range = np.append(c_range, np.linspace(2, 10, num=30))\n",
    "acc = np.array([])\n",
    "for i in range(len(c_range)):\n",
    "    logistic_clf = LogisticRegression(C=c_range[i])\n",
    "    logistic_clf = logistic_clf.fit(final_train, y_train)\n",
    "    predict = logistic_clf.predict(final_test)\n",
    "    acc = np.append(acc, [accuracy_score(y_test, predict), c_range[i]])"
   ]
  },
  {
   "cell_type": "code",
   "execution_count": 25,
   "metadata": {},
   "outputs": [
    {
     "name": "stdout",
     "output_type": "stream",
     "text": [
      "0.609137055838\n",
      "0.3\n"
     ]
    }
   ],
   "source": [
    "maxv = 0\n",
    "c = 0\n",
    "for i in range(0, len(acc), 2):\n",
    "    if maxv < acc[i]:\n",
    "        maxv = acc[i]\n",
    "        c = acc[i+1]\n",
    "print(maxv)\n",
    "print(c)"
   ]
  },
  {
   "cell_type": "code",
   "execution_count": 26,
   "metadata": {},
   "outputs": [
    {
     "name": "stdout",
     "output_type": "stream",
     "text": [
      "0.604060913706\n"
     ]
    }
   ],
   "source": [
    "print(acc[22])"
   ]
  },
  {
   "cell_type": "code",
   "execution_count": 27,
   "metadata": {},
   "outputs": [
    {
     "name": "stdout",
     "output_type": "stream",
     "text": [
      "0.598984771574\n"
     ]
    }
   ],
   "source": [
    "from sklearn.naive_bayes import GaussianNB, BernoulliNB\n",
    "gs_clf = BernoulliNB()\n",
    "gs_clf = gs_clf.fit(final_train.toarray(), y_train)\n",
    "predict = gs_clf.predict(final_test.toarray())\n",
    "print(accuracy_score(y_test, predict))"
   ]
  },
  {
   "cell_type": "code",
   "execution_count": 28,
   "metadata": {},
   "outputs": [
    {
     "name": "stdout",
     "output_type": "stream",
     "text": [
      "0.540609137056\n"
     ]
    }
   ],
   "source": [
    "gs_clf = GaussianNB()\n",
    "gs_clf = gs_clf.fit(final_train.toarray(), y_train)\n",
    "predict = gs_clf.predict(final_test.toarray())\n",
    "print(accuracy_score(y_test, predict))"
   ]
  },
  {
   "cell_type": "code",
   "execution_count": 29,
   "metadata": {},
   "outputs": [],
   "source": [
    "c_range = np.array([1.2, 2, 3, 4, 5, 6])\n",
    "gamma_range = np.array([0.9, 1.3])\n",
    "acc = np.array([])\n",
    "for i in range(len(c_range)):\n",
    "    for j in range(len(gamma_range)):\n",
    "        svm_clf = SVC(C=c_range[i], gamma=gamma_range[j])\n",
    "        svm_clf = svm_clf.fit(final_train, y_train)\n",
    "        predict = svm_clf.predict(final_test)\n",
    "        acc = np.append(acc, [accuracy_score(y_test, predict), c_range[i], gamma_range[j]])\n",
    "        if accuracy_score(y_test, predict) >= 0.60:\n",
    "            print([accuracy_score(y_test, predict), c_range[i], gamma_range[j]])"
   ]
  },
  {
   "cell_type": "code",
   "execution_count": 30,
   "metadata": {},
   "outputs": [
    {
     "name": "stdout",
     "output_type": "stream",
     "text": [
      "0.58883248731\n",
      "1.2\n",
      "1.3\n"
     ]
    }
   ],
   "source": [
    "maxv = 0\n",
    "c = 0\n",
    "gamma = 0\n",
    "for i in range(0, len(acc), 3):\n",
    "    if maxv < acc[i]:\n",
    "        maxv = acc[i]\n",
    "        c = acc[i+1]\n",
    "        gamma = acc[i+2]\n",
    "print(maxv)\n",
    "print(c)\n",
    "print(gamma)"
   ]
  },
  {
   "cell_type": "code",
   "execution_count": 31,
   "metadata": {
    "collapsed": true
   },
   "outputs": [],
   "source": [
    "c_range = np.linspace(0.001, 0.1, num=10)\n",
    "c_range = np.append(c_range, np.linspace(0.1, 2, num=20))\n",
    "c_range = np.append(c_range, np.linspace(2, 10, num=30))\n",
    "acc = np.array([])\n",
    "for i in range(len(c_range)):\n",
    "    lsvm_clf = LinearSVC(C=c_range[i])\n",
    "    lsvm_clf = lsvm_clf.fit(final_train, y_train)\n",
    "    predict = lsvm_clf.predict(final_test)\n",
    "    acc = np.append(acc, [accuracy_score(y_test, predict), c_range[i]])"
   ]
  },
  {
   "cell_type": "code",
   "execution_count": 32,
   "metadata": {},
   "outputs": [
    {
     "name": "stdout",
     "output_type": "stream",
     "text": [
      "0.609137055838\n",
      "0.067\n"
     ]
    }
   ],
   "source": [
    "maxv = 0\n",
    "c = 0\n",
    "for i in range(0, len(acc), 2):\n",
    "    if maxv < acc[i]:\n",
    "        maxv = acc[i]\n",
    "        c = acc[i+1]\n",
    "print(maxv)\n",
    "print(c)"
   ]
  },
  {
   "cell_type": "code",
   "execution_count": null,
   "metadata": {
    "collapsed": true
   },
   "outputs": [],
   "source": []
  }
 ],
 "metadata": {
  "kernelspec": {
   "display_name": "Python 3",
   "language": "python",
   "name": "python3"
  },
  "language_info": {
   "codemirror_mode": {
    "name": "ipython",
    "version": 3
   },
   "file_extension": ".py",
   "mimetype": "text/x-python",
   "name": "python",
   "nbconvert_exporter": "python",
   "pygments_lexer": "ipython3",
   "version": "3.6.2"
  }
 },
 "nbformat": 4,
 "nbformat_minor": 2
}
