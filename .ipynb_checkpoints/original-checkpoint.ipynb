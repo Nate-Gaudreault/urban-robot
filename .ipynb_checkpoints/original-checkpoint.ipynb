{
 "cells": [
  {
   "cell_type": "code",
   "execution_count": 1,
   "metadata": {
    "collapsed": true
   },
   "outputs": [],
   "source": [
    "import numpy as np\n",
    "import pandas as pd\n",
    "from textblob import TextBlob\n",
    "from nltk import ngrams\n",
    "import nltk\n",
    "from sklearn.feature_extraction import FeatureHasher\n",
    "from sklearn.feature_extraction.text import CountVectorizer\n",
    "from collections import Counter\n",
    "from sklearn.linear_model import LogisticRegression\n",
    "from sklearn.metrics import accuracy_score\n",
    "import matplotlib.pylab as pp\n",
    "from sklearn.svm import SVC, LinearSVC\n",
    "from sklearn.ensemble import RandomForestClassifier\n",
    "from scipy.sparse import csr_matrix, hstack\n",
    "from sklearn.datasets import load_files\n",
    "from sklearn.model_selection import train_test_split"
   ]
  },
  {
   "cell_type": "code",
   "execution_count": 2,
   "metadata": {
    "collapsed": true
   },
   "outputs": [],
   "source": [
    "dataset = load_files('container/')"
   ]
  },
  {
   "cell_type": "code",
   "execution_count": 3,
   "metadata": {},
   "outputs": [],
   "source": [
    "X = np.array([])\n",
    "y = np.array([])\n",
    "for i in range(len(dataset.data)):\n",
    "    X = np.append(X, str(dataset.data[i]))\n",
    "    if dataset.target[i] == 0:\n",
    "        y = np.append(y, 'notsarc')\n",
    "    else:\n",
    "        y = np.append(y, 'sarc')"
   ]
  },
  {
   "cell_type": "code",
   "execution_count": 4,
   "metadata": {
    "collapsed": true
   },
   "outputs": [],
   "source": [
    "X_train, X_test, y_train, y_test = train_test_split(X, y, test_size=0.2)"
   ]
  },
  {
   "cell_type": "code",
   "execution_count": 5,
   "metadata": {},
   "outputs": [
    {
     "name": "stdout",
     "output_type": "stream",
     "text": [
      "(1596,)\n",
      "(400,)\n",
      "(1596,)\n",
      "(400,)\n"
     ]
    }
   ],
   "source": [
    "print(X_train.shape)\n",
    "print(X_test.shape)\n",
    "print(y_train.shape)\n",
    "print(y_test.shape)"
   ]
  },
  {
   "cell_type": "code",
   "execution_count": 6,
   "metadata": {
    "collapsed": true
   },
   "outputs": [],
   "source": [
    "def divide_text(text, n):\n",
    "    tokens = nltk.word_tokenize(text)\n",
    "    spilting_length = len(tokens) / n\n",
    "    out = []\n",
    "    x = 0\n",
    "    for i in range(n):\n",
    "        str_list = tokens[x:int(x+spilting_length)]\n",
    "        string = \" \".join(str_list)\n",
    "        out.append(string)\n",
    "        x = int(x+spilting_length)\n",
    "    return out\n",
    "\n",
    "def get_sentiment(arr):\n",
    "    n = len(arr)\n",
    "    polar = []\n",
    "    for i in range(n):\n",
    "        analysis = TextBlob(arr[i])\n",
    "        polar.append(analysis.sentiment.polarity)\n",
    "    return polar"
   ]
  },
  {
   "cell_type": "code",
   "execution_count": 7,
   "metadata": {},
   "outputs": [],
   "source": [
    "bi_sentiment = []\n",
    "uni_sentiment = []\n",
    "tri_sentiment = []\n",
    "for i in range(len(X_train)):\n",
    "    analysis = TextBlob(X_train[i])\n",
    "    polar = analysis.sentiment.polarity\n",
    "    uni_sentiment.append(polar)\n",
    "    string_list = divide_text(X_train[i], 2)\n",
    "    polar = get_sentiment(string_list)\n",
    "    bi_sentiment.append(polar)\n",
    "    string_list = divide_text(X_train[i], 3)\n",
    "    polar = get_sentiment(string_list)\n",
    "    tri_sentiment.append(polar)\n",
    "\n",
    "uni_sentiment = np.array(uni_sentiment)\n",
    "bi_sentiment = np.array(bi_sentiment)\n",
    "tri_sentiment = np.array(tri_sentiment)"
   ]
  },
  {
   "cell_type": "code",
   "execution_count": 8,
   "metadata": {
    "collapsed": true
   },
   "outputs": [],
   "source": [
    "sentiment_array = []"
   ]
  },
  {
   "cell_type": "code",
   "execution_count": 9,
   "metadata": {},
   "outputs": [],
   "source": [
    "for i in range(len(X_train)):\n",
    "    sentiment_array.append([\n",
    "        uni_sentiment[i],\n",
    "        bi_sentiment[i][0],\n",
    "        bi_sentiment[i][1],\n",
    "        tri_sentiment[i][0],\n",
    "        tri_sentiment[i][1],\n",
    "        tri_sentiment[i][2]\n",
    "    ])\n",
    "\n",
    "sentiment_array = np.array(sentiment_array)"
   ]
  },
  {
   "cell_type": "code",
   "execution_count": 10,
   "metadata": {
    "collapsed": true
   },
   "outputs": [],
   "source": [
    "f_train = sentiment_array"
   ]
  },
  {
   "cell_type": "code",
   "execution_count": 11,
   "metadata": {},
   "outputs": [
    {
     "name": "stdout",
     "output_type": "stream",
     "text": [
      "(1596, 6)\n"
     ]
    }
   ],
   "source": [
    "print(f_train.shape)"
   ]
  },
  {
   "cell_type": "code",
   "execution_count": 12,
   "metadata": {
    "collapsed": true
   },
   "outputs": [],
   "source": [
    "bi_sentiment = []\n",
    "uni_sentiment = []\n",
    "tri_sentiment = []\n",
    "for i in range(len(X_test)):\n",
    "    analysis = TextBlob(X_test[i])\n",
    "    polar = analysis.sentiment.polarity\n",
    "    uni_sentiment.append(polar)\n",
    "    string_list = divide_text(X_test[i], 2)\n",
    "    polar = get_sentiment(string_list)\n",
    "    bi_sentiment.append(polar)\n",
    "    string_list = divide_text(X_test[i], 3)\n",
    "    polar = get_sentiment(string_list)\n",
    "    tri_sentiment.append(polar)\n",
    "\n",
    "uni_sentiment = np.array(uni_sentiment)\n",
    "bi_sentiment = np.array(bi_sentiment)\n",
    "tri_sentiment = np.array(tri_sentiment)"
   ]
  },
  {
   "cell_type": "code",
   "execution_count": 13,
   "metadata": {
    "collapsed": true
   },
   "outputs": [],
   "source": [
    "sentiment_array = []"
   ]
  },
  {
   "cell_type": "code",
   "execution_count": 14,
   "metadata": {},
   "outputs": [],
   "source": [
    "for i in range(len(X_test)):\n",
    "    sentiment_array.append([\n",
    "        uni_sentiment[i],\n",
    "        bi_sentiment[i][0],\n",
    "        bi_sentiment[i][1],\n",
    "        tri_sentiment[i][0],\n",
    "        tri_sentiment[i][1],\n",
    "        tri_sentiment[i][2]\n",
    "    ])\n",
    "\n",
    "sentiment_array = np.array(sentiment_array)"
   ]
  },
  {
   "cell_type": "code",
   "execution_count": 15,
   "metadata": {
    "collapsed": true
   },
   "outputs": [],
   "source": [
    "f_test = sentiment_array"
   ]
  },
  {
   "cell_type": "code",
   "execution_count": 16,
   "metadata": {},
   "outputs": [
    {
     "name": "stdout",
     "output_type": "stream",
     "text": [
      "(400, 6)\n"
     ]
    }
   ],
   "source": [
    "print(f_test.shape)"
   ]
  },
  {
   "cell_type": "code",
   "execution_count": 17,
   "metadata": {},
   "outputs": [
    {
     "name": "stdout",
     "output_type": "stream",
     "text": [
      "0.5075\n"
     ]
    }
   ],
   "source": [
    "logistic_clf = LogisticRegression()\n",
    "logistic_clf = logistic_clf.fit(f_train, y_train)\n",
    "predict = logistic_clf.predict(f_test)\n",
    "score = accuracy_score(y_test, predict)\n",
    "print(score)"
   ]
  },
  {
   "cell_type": "code",
   "execution_count": 18,
   "metadata": {},
   "outputs": [
    {
     "name": "stdout",
     "output_type": "stream",
     "text": [
      "0.5225\n"
     ]
    }
   ],
   "source": [
    "svm_clf = SVC()\n",
    "svm_clf = svm_clf.fit(f_train, y_train)\n",
    "predict = svm_clf.predict(f_test)\n",
    "score = accuracy_score(y_test, predict)\n",
    "print(score)"
   ]
  },
  {
   "cell_type": "code",
   "execution_count": 19,
   "metadata": {},
   "outputs": [
    {
     "name": "stdout",
     "output_type": "stream",
     "text": [
      "0.525\n"
     ]
    }
   ],
   "source": [
    "rf_clf = RandomForestClassifier()\n",
    "rf_clf = rf_clf.fit(f_train, y_train)\n",
    "predict = rf_clf.predict(f_test)\n",
    "score = accuracy_score(y_test, predict)\n",
    "print(score)"
   ]
  },
  {
   "cell_type": "code",
   "execution_count": 20,
   "metadata": {},
   "outputs": [
    {
     "name": "stdout",
     "output_type": "stream",
     "text": [
      "0.5125\n"
     ]
    }
   ],
   "source": [
    "svm_clf = LinearSVC()\n",
    "svm_clf = svm_clf.fit(f_train, y_train)\n",
    "predict = svm_clf.predict(f_test)\n",
    "score = accuracy_score(y_test, predict)\n",
    "print(score)"
   ]
  },
  {
   "cell_type": "code",
   "execution_count": 21,
   "metadata": {},
   "outputs": [
    {
     "name": "stdout",
     "output_type": "stream",
     "text": [
      "0.465\n"
     ]
    }
   ],
   "source": [
    "svm_clf = SVC(kernel='sigmoid')\n",
    "svm_clf = svm_clf.fit(f_train, y_train)\n",
    "predict = svm_clf.predict(f_test)\n",
    "score = accuracy_score(y_test, predict)\n",
    "print(score)"
   ]
  },
  {
   "cell_type": "code",
   "execution_count": 22,
   "metadata": {},
   "outputs": [
    {
     "name": "stdout",
     "output_type": "stream",
     "text": [
      "0.5225\n"
     ]
    }
   ],
   "source": [
    "svm_clf = SVC(kernel='rbf')\n",
    "svm_clf = svm_clf.fit(f_train, y_train)\n",
    "predict = svm_clf.predict(f_test)\n",
    "score = accuracy_score(y_test, predict)\n",
    "print(score)"
   ]
  },
  {
   "cell_type": "code",
   "execution_count": null,
   "metadata": {
    "collapsed": true
   },
   "outputs": [],
   "source": [
    "'''scores = []\n",
    "C_range = np.linspace(-0.001, 1, 2)\n",
    "gamma_range = np.linspace(-0.001, 1, 2)\n",
    "for C in C_range:\n",
    "    for gamma in gamma_range:\n",
    "        clf = SVC(C=C, gamma=gamma)\n",
    "        clf = clf.fit(f_train, y_train)\n",
    "        predict = clf.predict(f_test)\n",
    "        score = accuracy_score(y_test, predict)\n",
    "        scores.append([score, C, gamma])'''"
   ]
  },
  {
   "cell_type": "code",
   "execution_count": null,
   "metadata": {
    "collapsed": true
   },
   "outputs": [],
   "source": []
  }
 ],
 "metadata": {
  "kernelspec": {
   "display_name": "Python 3",
   "language": "python",
   "name": "python3"
  },
  "language_info": {
   "codemirror_mode": {
    "name": "ipython",
    "version": 3
   },
   "file_extension": ".py",
   "mimetype": "text/x-python",
   "name": "python",
   "nbconvert_exporter": "python",
   "pygments_lexer": "ipython3",
   "version": "3.6.2"
  }
 },
 "nbformat": 4,
 "nbformat_minor": 2
}
